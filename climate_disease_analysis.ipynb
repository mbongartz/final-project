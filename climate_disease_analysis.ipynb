{
 "cells": [
  {
   "cell_type": "code",
   "execution_count": 1,
   "metadata": {
    "collapsed": true
   },
   "outputs": [],
   "source": [
    "import pandas as pd\n",
    "%matplotlib inline\n",
    "import matplotlib.pyplot as plt\n",
    "from sklearn.linear_model import LinearRegression\n",
    "import numpy as np\n",
    "\n",
    "import os"
   ]
  },
  {
   "cell_type": "code",
   "execution_count": 2,
   "metadata": {
    "collapsed": false
   },
   "outputs": [],
   "source": [
    "#explore individual files\n",
    "df = pd.read_csv(\"New York_temp_avg_annual_dec.csv\", skiprows = range(0,3))"
   ]
  },
  {
   "cell_type": "code",
   "execution_count": 3,
   "metadata": {
    "collapsed": false
   },
   "outputs": [],
   "source": [
    "df['Date'] = df['Date'].map((lambda x: str(x)[:-2]))"
   ]
  },
  {
   "cell_type": "code",
   "execution_count": 4,
   "metadata": {
    "collapsed": false
   },
   "outputs": [],
   "source": [
    "df['Date'] = df['Date'].apply(lambda x: int(x))"
   ]
  },
  {
   "cell_type": "code",
   "execution_count": 5,
   "metadata": {
    "collapsed": false
   },
   "outputs": [
    {
     "data": {
      "text/html": [
       "<div>\n",
       "<table border=\"1\" class=\"dataframe\">\n",
       "  <thead>\n",
       "    <tr style=\"text-align: right;\">\n",
       "      <th></th>\n",
       "      <th>Date</th>\n",
       "      <th>Value</th>\n",
       "      <th>Anomaly</th>\n",
       "    </tr>\n",
       "  </thead>\n",
       "  <tbody>\n",
       "    <tr>\n",
       "      <th>0</th>\n",
       "      <td>1895</td>\n",
       "      <td>43.5</td>\n",
       "      <td>-1.0</td>\n",
       "    </tr>\n",
       "    <tr>\n",
       "      <th>1</th>\n",
       "      <td>1896</td>\n",
       "      <td>44.1</td>\n",
       "      <td>-0.4</td>\n",
       "    </tr>\n",
       "    <tr>\n",
       "      <th>2</th>\n",
       "      <td>1897</td>\n",
       "      <td>44.4</td>\n",
       "      <td>-0.1</td>\n",
       "    </tr>\n",
       "    <tr>\n",
       "      <th>3</th>\n",
       "      <td>1898</td>\n",
       "      <td>46.0</td>\n",
       "      <td>1.5</td>\n",
       "    </tr>\n",
       "    <tr>\n",
       "      <th>4</th>\n",
       "      <td>1899</td>\n",
       "      <td>44.7</td>\n",
       "      <td>0.2</td>\n",
       "    </tr>\n",
       "  </tbody>\n",
       "</table>\n",
       "</div>"
      ],
      "text/plain": [
       "   Date  Value  Anomaly\n",
       "0  1895   43.5     -1.0\n",
       "1  1896   44.1     -0.4\n",
       "2  1897   44.4     -0.1\n",
       "3  1898   46.0      1.5\n",
       "4  1899   44.7      0.2"
      ]
     },
     "execution_count": 5,
     "metadata": {},
     "output_type": "execute_result"
    }
   ],
   "source": [
    "#anomaly indicates how far off from the temperature or precipitation normal the annual value is\n",
    "#interesting, but not relevant for this project\n",
    "df.head()"
   ]
  },
  {
   "cell_type": "code",
   "execution_count": 6,
   "metadata": {
    "collapsed": false
   },
   "outputs": [
    {
     "data": {
      "text/plain": [
       "<matplotlib.axes._subplots.AxesSubplot at 0xc363710>"
      ]
     },
     "execution_count": 6,
     "metadata": {},
     "output_type": "execute_result"
    },
    {
     "data": {
      "image/png": "[encoded data removed]",
      "text/plain": [
       "<matplotlib.figure.Figure at 0xc339e48>"
      ]
     },
     "metadata": {},
     "output_type": "display_data"
    }
   ],
   "source": [
    "df.plot(kind=\"scatter\",x=\"Date\",y=\"Value\")"
   ]
  },
  {
   "cell_type": "code",
   "execution_count": 7,
   "metadata": {
    "collapsed": false
   },
   "outputs": [
    {
     "data": {
      "text/html": [
       "<div>\n",
       "<table border=\"1\" class=\"dataframe\">\n",
       "  <thead>\n",
       "    <tr style=\"text-align: right;\">\n",
       "      <th></th>\n",
       "      <th>Date</th>\n",
       "      <th>Value</th>\n",
       "      <th>Anomaly</th>\n",
       "    </tr>\n",
       "  </thead>\n",
       "  <tbody>\n",
       "    <tr>\n",
       "      <th>Date</th>\n",
       "      <td>1.000000</td>\n",
       "      <td>0.419663</td>\n",
       "      <td>0.419663</td>\n",
       "    </tr>\n",
       "    <tr>\n",
       "      <th>Value</th>\n",
       "      <td>0.419663</td>\n",
       "      <td>1.000000</td>\n",
       "      <td>1.000000</td>\n",
       "    </tr>\n",
       "    <tr>\n",
       "      <th>Anomaly</th>\n",
       "      <td>0.419663</td>\n",
       "      <td>1.000000</td>\n",
       "      <td>1.000000</td>\n",
       "    </tr>\n",
       "  </tbody>\n",
       "</table>\n",
       "</div>"
      ],
      "text/plain": [
       "             Date     Value   Anomaly\n",
       "Date     1.000000  0.419663  0.419663\n",
       "Value    0.419663  1.000000  1.000000\n",
       "Anomaly  0.419663  1.000000  1.000000"
      ]
     },
     "execution_count": 7,
     "metadata": {},
     "output_type": "execute_result"
    }
   ],
   "source": [
    "df.corr()"
   ]
  },
  {
   "cell_type": "code",
   "execution_count": 8,
   "metadata": {
    "collapsed": true
   },
   "outputs": [],
   "source": [
    "data = np.asarray(df[['Date','Value']])\n",
    "x, y = data[:, :1], data[:, 1]"
   ]
  },
  {
   "cell_type": "code",
   "execution_count": 9,
   "metadata": {
    "collapsed": false
   },
   "outputs": [
    {
     "data": {
      "text/plain": [
       "array([[ 1895. ,    43.5],\n",
       "       [ 1896. ,    44.1],\n",
       "       [ 1897. ,    44.4],\n",
       "       [ 1898. ,    46. ],\n",
       "       [ 1899. ,    44.7],\n",
       "       [ 1900. ,    45.2],\n",
       "       [ 1901. ,    43.9],\n",
       "       [ 1902. ,    44.1],\n",
       "       [ 1903. ,    44.1],\n",
       "       [ 1904. ,    41.3],\n",
       "       [ 1905. ,    43.2],\n",
       "       [ 1906. ,    44.6],\n",
       "       [ 1907. ,    42.5],\n",
       "       [ 1908. ,    44.8],\n",
       "       [ 1909. ,    44.1],\n",
       "       [ 1910. ,    44.1],\n",
       "       [ 1911. ,    44.9],\n",
       "       [ 1912. ,    43. ],\n",
       "       [ 1913. ,    46.1],\n",
       "       [ 1914. ,    42.9],\n",
       "       [ 1915. ,    44.6],\n",
       "       [ 1916. ,    43.8],\n",
       "       [ 1917. ,    41.1],\n",
       "       [ 1918. ,    43.8],\n",
       "       [ 1919. ,    45.1],\n",
       "       [ 1920. ,    43.5],\n",
       "       [ 1921. ,    46.9],\n",
       "       [ 1922. ,    44.9],\n",
       "       [ 1923. ,    43.3],\n",
       "       [ 1924. ,    42.4],\n",
       "       [ 1925. ,    44. ],\n",
       "       [ 1926. ,    41.7],\n",
       "       [ 1927. ,    44.5],\n",
       "       [ 1928. ,    44.4],\n",
       "       [ 1929. ,    44.1],\n",
       "       [ 1930. ,    45.2],\n",
       "       [ 1931. ,    46.7],\n",
       "       [ 1932. ,    45.4],\n",
       "       [ 1933. ,    45.3],\n",
       "       [ 1934. ,    43.7],\n",
       "       [ 1935. ,    43.4],\n",
       "       [ 1936. ,    44.3],\n",
       "       [ 1937. ,    45.2],\n",
       "       [ 1938. ,    45.8],\n",
       "       [ 1939. ,    44.4],\n",
       "       [ 1940. ,    42.2],\n",
       "       [ 1941. ,    45.2],\n",
       "       [ 1942. ,    45. ],\n",
       "       [ 1943. ,    43.3],\n",
       "       [ 1944. ,    44.7],\n",
       "       [ 1945. ,    44.6],\n",
       "       [ 1946. ,    45.8],\n",
       "       [ 1947. ,    44.8],\n",
       "       [ 1948. ,    44.7],\n",
       "       [ 1949. ,    47.1],\n",
       "       [ 1950. ,    44.2],\n",
       "       [ 1951. ,    45. ],\n",
       "       [ 1952. ,    45.9],\n",
       "       [ 1953. ,    47.1],\n",
       "       [ 1954. ,    45. ],\n",
       "       [ 1955. ,    45.4],\n",
       "       [ 1956. ,    43.8],\n",
       "       [ 1957. ,    45.4],\n",
       "       [ 1958. ,    43.1],\n",
       "       [ 1959. ,    45.4],\n",
       "       [ 1960. ,    44.3],\n",
       "       [ 1961. ,    44.8],\n",
       "       [ 1962. ,    43.5],\n",
       "       [ 1963. ,    43.3],\n",
       "       [ 1964. ,    44.9],\n",
       "       [ 1965. ,    43.7],\n",
       "       [ 1966. ,    44.1],\n",
       "       [ 1967. ,    43.8],\n",
       "       [ 1968. ,    43.9],\n",
       "       [ 1969. ,    44.2],\n",
       "       [ 1970. ,    44.1],\n",
       "       [ 1971. ,    44.3],\n",
       "       [ 1972. ,    43.1],\n",
       "       [ 1973. ,    46.4],\n",
       "       [ 1974. ,    44.2],\n",
       "       [ 1975. ,    45.5],\n",
       "       [ 1976. ,    43.2],\n",
       "       [ 1977. ,    44.5],\n",
       "       [ 1978. ,    42.9],\n",
       "       [ 1979. ,    44.6],\n",
       "       [ 1980. ,    43.6],\n",
       "       [ 1981. ,    44.7],\n",
       "       [ 1982. ,    44.4],\n",
       "       [ 1983. ,    45.5],\n",
       "       [ 1984. ,    45.2],\n",
       "       [ 1985. ,    44.7],\n",
       "       [ 1986. ,    45.1],\n",
       "       [ 1987. ,    45.7],\n",
       "       [ 1988. ,    44.9],\n",
       "       [ 1989. ,    43.8],\n",
       "       [ 1990. ,    47.3],\n",
       "       [ 1991. ,    47.1],\n",
       "       [ 1992. ,    43.8],\n",
       "       [ 1993. ,    44.2],\n",
       "       [ 1994. ,    44.3],\n",
       "       [ 1995. ,    45.2],\n",
       "       [ 1996. ,    44.6],\n",
       "       [ 1997. ,    44.3],\n",
       "       [ 1998. ,    48.3],\n",
       "       [ 1999. ,    46.9],\n",
       "       [ 2000. ,    44.9],\n",
       "       [ 2001. ,    46.9],\n",
       "       [ 2002. ,    46.8],\n",
       "       [ 2003. ,    44.5],\n",
       "       [ 2004. ,    45.2],\n",
       "       [ 2005. ,    46.2],\n",
       "       [ 2006. ,    47.6],\n",
       "       [ 2007. ,    45.7],\n",
       "       [ 2008. ,    45.8],\n",
       "       [ 2009. ,    45. ],\n",
       "       [ 2010. ,    47.3],\n",
       "       [ 2011. ,    47.1],\n",
       "       [ 2012. ,    48.9],\n",
       "       [ 2013. ,    45.7],\n",
       "       [ 2014. ,    44.5]])"
      ]
     },
     "execution_count": 9,
     "metadata": {},
     "output_type": "execute_result"
    }
   ],
   "source": [
    "data"
   ]
  },
  {
   "cell_type": "code",
   "execution_count": 10,
   "metadata": {
    "collapsed": true
   },
   "outputs": [],
   "source": [
    "lr = LinearRegression()"
   ]
  },
  {
   "cell_type": "code",
   "execution_count": 11,
   "metadata": {
    "collapsed": false
   },
   "outputs": [
    {
     "data": {
      "text/plain": [
       "LinearRegression(copy_X=True, fit_intercept=True, normalize=False)"
      ]
     },
     "execution_count": 11,
     "metadata": {},
     "output_type": "execute_result"
    }
   ],
   "source": [
    "lr.fit(x,y)"
   ]
  },
  {
   "cell_type": "code",
   "execution_count": 12,
   "metadata": {
    "collapsed": false
   },
   "outputs": [],
   "source": [
    "m = lr.coef_[0]"
   ]
  },
  {
   "cell_type": "code",
   "execution_count": 13,
   "metadata": {
    "collapsed": false
   },
   "outputs": [
    {
     "data": {
      "text/plain": [
       "0.016309118688797836"
      ]
     },
     "execution_count": 13,
     "metadata": {},
     "output_type": "execute_result"
    }
   ],
   "source": [
    "m"
   ]
  },
  {
   "cell_type": "code",
   "execution_count": 14,
   "metadata": {
    "collapsed": false
   },
   "outputs": [],
   "source": [
    "b = lr.intercept_"
   ]
  },
  {
   "cell_type": "code",
   "execution_count": 15,
   "metadata": {
    "collapsed": false
   },
   "outputs": [
    {
     "data": {
      "text/plain": [
       "12.837994189411301"
      ]
     },
     "execution_count": 15,
     "metadata": {},
     "output_type": "execute_result"
    }
   ],
   "source": [
    "b"
   ]
  },
  {
   "cell_type": "code",
   "execution_count": 16,
   "metadata": {
    "collapsed": false
   },
   "outputs": [
    {
     "data": {
      "text/plain": [
       "[<matplotlib.lines.Line2D at 0x1ee7c828>]"
      ]
     },
     "execution_count": 16,
     "metadata": {},
     "output_type": "execute_result"
    },
    {
     "data": {
      "image/png": "[encoded data removed]",
      "text/plain": [
       "<matplotlib.figure.Figure at 0xc3636d8>"
      ]
     },
     "metadata": {},
     "output_type": "display_data"
    }
   ],
   "source": [
    "df.plot(kind=\"scatter\",x=\"Date\",y=\"Value\")\n",
    "plt.plot(df['Date'],m*df['Date']+b,'-')"
   ]
  },
  {
   "cell_type": "code",
   "execution_count": 17,
   "metadata": {
    "collapsed": false
   },
   "outputs": [
    {
     "data": {
      "text/plain": [
       "0.1761173404085391"
      ]
     },
     "execution_count": 17,
     "metadata": {},
     "output_type": "execute_result"
    }
   ],
   "source": [
    "lr.score(x,y)"
   ]
  },
  {
   "cell_type": "code",
   "execution_count": 18,
   "metadata": {
    "collapsed": true
   },
   "outputs": [],
   "source": [
    "#create predictor to play with\n",
    "def pred_temp(Date):\n",
    "    return (m*Date) + (b)"
   ]
  },
  {
   "cell_type": "code",
   "execution_count": 19,
   "metadata": {
    "collapsed": false
   },
   "outputs": [
    {
     "data": {
      "text/plain": [
       "45.782413940782931"
      ]
     },
     "execution_count": 19,
     "metadata": {},
     "output_type": "execute_result"
    }
   ],
   "source": [
    "pred_temp(2020)"
   ]
  },
  {
   "cell_type": "code",
   "execution_count": 20,
   "metadata": {
    "collapsed": false
   },
   "outputs": [
    {
     "data": {
      "text/plain": [
       "45.945505127670913"
      ]
     },
     "execution_count": 20,
     "metadata": {},
     "output_type": "execute_result"
    }
   ],
   "source": [
    "pred_temp(2030)"
   ]
  },
  {
   "cell_type": "code",
   "execution_count": 160,
   "metadata": {
    "collapsed": false
   },
   "outputs": [
    {
     "data": {
      "text/plain": [
       "40.32868191078083"
      ]
     },
     "execution_count": 160,
     "metadata": {},
     "output_type": "execute_result"
    }
   ],
   "source": [
    "#function to generate regression models for each state/set of parameters\n",
    "\n",
    "def genModels(filesToRead):\n",
    "    modelDict = {}\n",
    "    for file in filesToRead:\n",
    "        #print file\n",
    "        stateName = file.split('_')[0]\n",
    "        df = pd.read_csv(file, skiprows = range(0,3))\n",
    "        df['Date'] = df['Date'].map((lambda x: str(x)[:-2]))\n",
    "        df['Date'] = df['Date'].apply(lambda x: int(x))\n",
    "        #print df.corr()\n",
    "        data = np.asarray(df[['Date','Value']])\n",
    "        x, y = data[:, :1], data[:, 1]\n",
    "        lr = LinearRegression()\n",
    "        lr.fit(x,y)\n",
    "        m = lr.coef_[0]\n",
    "        b = lr.intercept_\n",
    "        #df.plot(kind=\"scatter\",x=\"Date\",y=\"Value\")\n",
    "        #plt.plot(df['Date'],m*df['Date']+b,'-')\n",
    "        #print lr.score(x,y)\n",
    "        modelDict[stateName] = (m,b)\n",
    "    return modelDict\n",
    "\n",
    "#function to iterate through all files\n",
    "\n",
    "def filterFiles(filterWords):\n",
    "    folder = os.getcwd() #'C:\\\\Users\\\\Meghan\\\\Desktop\\\\lede\\\\final_project'\n",
    "    os.chdir(folder)\n",
    "    files=[file for file in os.listdir(\".\") if not file.startswith('.')]\n",
    "    files=[file for file in files if not os.path.isdir(file)==True]\n",
    "    # files=[file for file in files if \"temp_avg\" in file and \"annual\" in file and \"dec\" in file]\n",
    "    return [file for file in files if all(filter in file for filter in filterWords)]\n",
    "    \n",
    "#define dictionary of  models\n",
    "#using yearly data, jan for cold month, and july for warm month\n",
    "    \n",
    "models={}\n",
    "models[\"temp_avg_annual_dec\"] = genModels(filterFiles([\"temp_avg\",\"annual\",\"dec\"]))\n",
    "models[\"temp_avg_1month_july\"] = genModels(filterFiles([\"temp_avg\",\"1month\",\"july\"]))\n",
    "models[\"temp_avg_1month_jan\"] = genModels(filterFiles([\"temp_avg\",\"1month\",\"jan\"]))\n",
    "models[\"precip_annual_dec\"] = genModels(filterFiles([\"precip\",\"annual\",\"dec\"]))\n",
    "\n",
    "#linear predictor!\n",
    "\n",
    "def linearPredictor(year,model):\n",
    "    m,b = model\n",
    "    return (m*year) + (b)\n",
    "    \n",
    "#test it out on Illinois\n",
    "    \n",
    "linearPredictor(2020, models[\"precip_annual_dec\"][\"Illinois\"])\n",
    "\n"
   ]
  },
  {
   "cell_type": "code",
   "execution_count": 236,
   "metadata": {
    "collapsed": false
   },
   "outputs": [
    {
     "name": "stdout",
     "output_type": "stream",
     "text": [
      "{'temp_range_july': (-1, 89.6), 'precip_range': (21.0, -1), 'temp_range_annual': (50, 84.2)}\n"
     ]
    }
   ],
   "source": [
    "# ranges for our predictor compare\n",
    "\n",
    "# 68F warm month mean (no higher than 95)\n",
    "ranges={}\n",
    "ranges[\"tiger\"]={}\n",
    "ranges[\"tiger\"][\"temp_range_july\"] = (68,95)\n",
    "# cold month\n",
    "ranges[\"tiger\"][\"temp_range_jan\"]  = (33,-1)\n",
    "# > 19.69in rain per year\n",
    "ranges[\"tiger\"][\"precip_range\"] = (19.7,-1)\n",
    "\n",
    "\n",
    "ranges[\"house\"]={}\n",
    "# larvae\n",
    "ranges[\"house\"][\"temp_range_annual\"] = (50,84.2)\n",
    "# adults\n",
    "ranges[\"house\"][\"temp_range_july\"] = (-1,89.6)\n",
    "# rain more than 1.75in per month\n",
    "ranges[\"house\"][\"precip_range\"]=(1.75*12,-1)\n",
    "\n",
    "\n",
    "print ranges[\"house\"]"
   ]
  },
  {
   "cell_type": "code",
   "execution_count": 86,
   "metadata": {
    "collapsed": true
   },
   "outputs": [],
   "source": [
    "#just use the keys from the fips codes dictionary \n",
    "\n",
    "states = {\"Alabama\": \"01\", \"Arizona\": \"02\", \"Arkansas\": \"03\", \"California\": \"04\", \"Colorado\": \"05\", \n",
    "              \"Connecticut\": \"06\", \"Delaware\": \"07\", \"Florida\": \"08\", \"Georgia\": \"09\", \"Idaho\": \"10\", \n",
    "              \"Illinois\": \"11\", \"Indiana\": \"12\", \"Iowa\": \"13\", \"Kansas\": \"14\", \"Kentucky\": \"15\", \"Louisiana\": \"16\", \"Maine\": \"17\",\n",
    "              \"Maryland\": \"18\", \"Massachusetts\": \"19\", \"Michigan\": \"20\", \"Minnesota\": \"21\", \"Mississippi\": \"22\", \"Missouri\": \"23\", \n",
    "              \"Montana\": \"24\", \"Nebraska\": \"25\", \"Nevada\": \"26\", \"New Hampshire\": \"27\", \"New Jersey\": \"28\", \"New Mexico\": \"29\", \n",
    "              \"New York\": \"30\", \"North Carolina\": \"31\", \"North Dakota\": \"32\", \"Ohio\": \"33\", \"Oklahoma\": \"34\", \"Oregon\": \"35\", \n",
    "              \"Pennsylvania\": \"36\", \"Rhode Island\": \"37\", \"South Carolina\": \"38\", \"South Dakota\": \"39\", \"Tennessee\": \"40\", \n",
    "              \"Texas\": \"41\", \"Utah\": \"42\", \"Vermont\": \"43\", \"Virginia\": \"44\", \"Washington\": \"45\", \"West Virginia\": \"46\", \n",
    "              \"Wisconsin\": \"47\", \"Wyoming\": \"48\"}"
   ]
  },
  {
   "cell_type": "code",
   "execution_count": 242,
   "metadata": {
    "collapsed": false
   },
   "outputs": [
    {
     "name": "stdout",
     "output_type": "stream",
     "text": [
      "Tiger mosquitos:\n",
      "Mississippi 2015\n",
      "Oklahoma 2015\n",
      "Delaware 2015\n",
      "Arkansas 2015\n",
      "Louisiana 2015\n",
      "Texas 2015\n",
      "California 2015\n",
      "Georgia 2015\n",
      "Maryland 2042\n",
      "Virginia 2015\n",
      "Oregon 2088\n",
      "South Carolina 2015\n",
      "Florida 2015\n",
      "Alabama 2015\n",
      "North Carolina 2015\n",
      "Tennessee 2015\n",
      "\n",
      "\n",
      "House mosquitos:\n",
      "Mississippi 2015\n",
      "Oklahoma 2015\n",
      "Delaware 2015\n",
      "Illinois 2015\n",
      "Arkansas 2015\n",
      "Indiana 2015\n",
      "Louisiana 2015\n",
      "Texas 2015\n",
      "Kansas 2015\n",
      "Connecticut 2027\n",
      "California 2015\n",
      "West Virginia 2015\n",
      "Georgia 2015\n",
      "Pennsylvania 2096\n",
      "Missouri 2015\n",
      "New Jersey 2015\n",
      "Maryland 2015\n",
      "Virginia 2015\n",
      "Massachusetts 2077\n",
      "South Carolina 2015\n",
      "Florida 2015\n",
      "Kentucky 2015\n",
      "Rhode Island 2015\n",
      "Nebraska 2066\n",
      "Ohio 2015\n",
      "Alabama 2015\n",
      "North Carolina 2015\n",
      "Tennessee 2015\n"
     ]
    }
   ],
   "source": [
    "# compare linear predictions for some year against ranges\n",
    "def predictYearEnter(model, value):\n",
    "    for year in range(2015,2050):\n",
    "        if( value < linearPredictor(year,model) ):\n",
    "            return year\n",
    "    return 0\n",
    "\n",
    "\n",
    "#year that a state will leave the climate range\n",
    "def predictYearExit(model, value):\n",
    "    for year in range(2015,2050):\n",
    "        if( value  > linearPredictor(year,model) ):\n",
    "            return year\n",
    "    return 0\n",
    "\n",
    "#define years within range\n",
    "#calculate for present up to 2100\n",
    "def yearsWithinRange(model,rangeValues):\n",
    "    minYear = 2015\n",
    "    maxYear = 2100\n",
    "    years=[]\n",
    "    low,high = rangeValues\n",
    "    if( low > 0 and high > 0 ):\n",
    "        years = [year for year in range(minYear,maxYear) if linearPredictor(year,model)>low and linearPredictor(year,model)<high]\n",
    "    elif( low > 0 and high < 0 ):\n",
    "        years = [year for year in range(minYear,maxYear) if linearPredictor(year,model)>low]\n",
    "    elif( low < 0 and high > 0 ):\n",
    "        years = [year for year in range(minYear,maxYear) if linearPredictor(year,model)<high]\n",
    "    return years\n",
    "\n",
    "#function for Tiger Mosquito\n",
    "def predictTiger():\n",
    "    for state,etc in states.items():\n",
    "        # want year when state fits into all 3 predictors\n",
    "        tiger_predictors=[yearsWithinRange(models[\"temp_avg_1month_july\"][state],ranges[\"tiger\"][\"temp_range_july\"]),\n",
    "                          yearsWithinRange(models[\"temp_avg_1month_jan\"][state],ranges[\"tiger\"][\"temp_range_jan\"]),\n",
    "                          yearsWithinRange(models[\"precip_annual_dec\"][state],ranges[\"tiger\"][\"precip_range\"])]\n",
    "\n",
    "        intersect = sorted(list(set(tiger_predictors[0]) & set(tiger_predictors[1]) & set(tiger_predictors[2])))\n",
    "        if(len(intersect) and intersect[0]):\n",
    "            print state,intersect[0]\n",
    "            \n",
    "print \"Tiger mosquitos:\"\n",
    "predictTiger()\n",
    "print \"\\n\"\n",
    "\n",
    "#function for Southern House Mosquito\n",
    "def predictHouse():\n",
    "    for state,etc in states.items():\n",
    "        # want year when state fits into all 3 predictors\n",
    "        house_predictors=[yearsWithinRange(models[\"temp_avg_annual_dec\"][state],ranges[\"house\"][\"temp_range_annual\"]),\n",
    "                          yearsWithinRange(models[\"temp_avg_1month_july\"][state],ranges[\"house\"][\"temp_range_july\"]),\n",
    "                          yearsWithinRange(models[\"precip_annual_dec\"][state],ranges[\"house\"][\"precip_range\"])]\n",
    "\n",
    "        intersect = sorted(list(set(house_predictors[0]) & set(house_predictors[1]) & set(house_predictors[2])))\n",
    "        if(len(intersect) and intersect[0]):\n",
    "            print state,intersect[0]\n",
    "\n",
    "print \"House mosquitos:\"\n",
    "predictHouse()"
   ]
  }
 ],
 "metadata": {
  "kernelspec": {
   "display_name": "Python 2",
   "language": "python",
   "name": "python2"
  },
  "language_info": {
   "codemirror_mode": {
    "name": "ipython",
    "version": 2
   },
   "file_extension": ".py",
   "mimetype": "text/x-python",
   "name": "python",
   "nbconvert_exporter": "python",
   "pygments_lexer": "ipython2",
   "version": "2.7.9"
  }
 },
 "nbformat": 4,
 "nbformat_minor": 0
}
